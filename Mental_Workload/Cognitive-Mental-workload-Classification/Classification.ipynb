{
 "cells": [
  {
   "cell_type": "code",
   "execution_count": 28,
   "metadata": {
    "collapsed": false,
    "nbpresent": {
     "id": "41b87066-e0c9-4c49-85b0-88fc27bf749d"
    }
   },
   "outputs": [],
   "source": [
    "%matplotlib inline\n",
    "import numpy as np\n",
    "import pandas as pd\n",
    "from time import time\n",
    "from sklearn import metrics\n",
    "import matplotlib.pyplot as plt\n",
    "\n",
    "from sklearn import datasets, neighbors, linear_model, tree\n",
    "from sklearn.decomposition import PCA\n",
    "from sklearn.decomposition import PCA as RandomizedPCA\n",
    "from sklearn.model_selection import train_test_split\n",
    "# from sklearn.cross_validation import train_test_split\n",
    "from sklearn.metrics import classification_report, confusion_matrix\n",
    "\n",
    "#1-KNN\n",
    "from sklearn.neighbors import KNeighborsClassifier\n",
    "#2-RandomForest\n",
    "from sklearn.ensemble import RandomForestClassifier\n",
    "#3-SVM\n",
    "from sklearn import datasets, svm\n",
    "#4-DecisionTree\n",
    "from sklearn import tree\n",
    "#5-LDA\n",
    "from sklearn.discriminant_analysis import LinearDiscriminantAnalysis\n",
    "#6-GaussianNB\n",
    "from sklearn.naive_bayes import GaussianNB\n",
    "#7-MLP\n",
    "from sklearn.neural_network import MLPClassifier"
   ]
  },
  {
   "cell_type": "code",
   "execution_count": 29,
   "metadata": {},
   "outputs": [],
   "source": [
    "df = pd.read_csv('./Features/Normalizedfeatures.csv')\n",
    "df.drop('Mean of Vertex to Vertex Slope', axis = 1, inplace = True)\n",
    "df.drop('Coeffiecient of Variation', axis = 1, inplace = True)\n"
   ]
  },
  {
   "cell_type": "code",
   "execution_count": 30,
   "metadata": {},
   "outputs": [],
   "source": [
    "df.to_csv('./Features/Normalizedfeatures.csv')"
   ]
  },
  {
   "cell_type": "code",
   "execution_count": 31,
   "metadata": {
    "collapsed": false,
    "nbpresent": {
     "id": "c70c5115-6e4c-4aed-8058-e18232cfe484"
    }
   },
   "outputs": [],
   "source": [
    "f = open('./Features/Normalizedfeatures.csv')\n",
    "\n",
    "\n",
    "attributes=f.readline()\n",
    "X = []\n",
    "y = []\n",
    "for line in f:\n",
    "    line = line.rstrip().split(',')\n",
    "    l = [float(i) for i in line]\n",
    "    X.append(l[:-1])\n",
    "    y.append(l[-1])\n",
    "    \n",
    "X = np.asarray(X)\n",
    "y = np.asarray(y)\n",
    "\n",
    "X_train, X_test, y_train, y_test = train_test_split(X, y, test_size=0.25, random_state=42) "
   ]
  },
  {
   "cell_type": "code",
   "execution_count": 32,
   "metadata": {
    "collapsed": false,
    "nbpresent": {
     "id": "1e7dd587-98a8-4746-a7cf-3b842517ab8c"
    }
   },
   "outputs": [
    {
     "name": "stdout",
     "output_type": "stream",
     "text": [
      "#1-KNN\n"
     ]
    },
    {
     "data": {
      "text/plain": [
       "0.3173076923076923"
      ]
     },
     "execution_count": 32,
     "metadata": {},
     "output_type": "execute_result"
    }
   ],
   "source": [
    "#1-KNN\n",
    "print('#1-KNN')\n",
    "model = neighbors.KNeighborsClassifier(n_neighbors = 3)\n",
    "model.fit(X_train, y_train)\n",
    "model.fit(X_train, y_train)\n",
    "y_test_pred = model.predict(X_test)\n",
    "metrics.accuracy_score(y_test, y_test_pred, normalize=True, sample_weight=None)\n"
   ]
  },
  {
   "cell_type": "code",
   "execution_count": 33,
   "metadata": {
    "collapsed": false
   },
   "outputs": [
    {
     "name": "stdout",
     "output_type": "stream",
     "text": [
      "#2-RandomForest\n"
     ]
    },
    {
     "data": {
      "text/plain": [
       "0.5160256410256411"
      ]
     },
     "execution_count": 33,
     "metadata": {},
     "output_type": "execute_result"
    }
   ],
   "source": [
    "#2-RandomForest\n",
    "print('#2-RandomForest')\n",
    "model = RandomForestClassifier(n_estimators=100, n_jobs=4)\n",
    "model.fit(X_train, y_train)\n",
    "model.fit(X_train, y_train)\n",
    "y_test_pred = model.predict(X_test)\n",
    "metrics.accuracy_score(y_test, y_test_pred, normalize=True, sample_weight=None)\n"
   ]
  },
  {
   "cell_type": "code",
   "execution_count": 34,
   "metadata": {
    "collapsed": false
   },
   "outputs": [
    {
     "name": "stdout",
     "output_type": "stream",
     "text": [
      "#3-SVM\n",
      "Accuracy with rbf kernel = 40.06410256410256\n",
      "Accuracy with linear kernel = 37.5\n",
      "Accuracy with poly kernel = 24.03846153846154\n"
     ]
    }
   ],
   "source": [
    "#3-SVM\n",
    "print('#3-SVM')\n",
    "def evaluate_on_test_data(model=None):\n",
    "    predictions = model.predict(X_test)\n",
    "    correct_classifications = 0\n",
    "    for i in range(len(y_test)):\n",
    "        if predictions[i] == y_test[i]:\n",
    "            correct_classifications += 1\n",
    "    accuracy = 100*correct_classifications/len(y_test) #Accuracy as a percentage\n",
    "    return accuracy\n",
    "\n",
    "kernels = ('rbf','linear','poly')\n",
    "accuracies = []\n",
    "for index, kernel in enumerate(kernels):\n",
    "    model = svm.SVC(kernel=kernel)\n",
    "    model.fit(X_train, y_train)\n",
    "    acc = evaluate_on_test_data(model)\n",
    "    accuracies.append(acc)\n",
    "    print(\"Accuracy with {} kernel = {}\".format(kernel,acc))\n"
   ]
  },
  {
   "cell_type": "code",
   "execution_count": 35,
   "metadata": {
    "collapsed": false
   },
   "outputs": [
    {
     "name": "stdout",
     "output_type": "stream",
     "text": [
      "#4-MLP\n"
     ]
    },
    {
     "name": "stderr",
     "output_type": "stream",
     "text": [
      "/home/abhishek/.local/lib/python3.8/site-packages/sklearn/neural_network/_multilayer_perceptron.py:702: ConvergenceWarning: Stochastic Optimizer: Maximum iterations (200) reached and the optimization hasn't converged yet.\n",
      "  warnings.warn(\n",
      "/home/abhishek/.local/lib/python3.8/site-packages/sklearn/neural_network/_multilayer_perceptron.py:702: ConvergenceWarning: Stochastic Optimizer: Maximum iterations (200) reached and the optimization hasn't converged yet.\n",
      "  warnings.warn(\n"
     ]
    },
    {
     "data": {
      "text/plain": [
       "0.38461538461538464"
      ]
     },
     "execution_count": 35,
     "metadata": {},
     "output_type": "execute_result"
    }
   ],
   "source": [
    "#4-MLP\n",
    "print('#4-MLP')\n",
    "model = MLPClassifier(hidden_layer_sizes=(25,), random_state=1)\n",
    "model.fit(X_train, y_train)\n",
    "model.fit(X_train, y_train)\n",
    "y_test_pred = model.predict(X_test)\n",
    "metrics.accuracy_score(y_test, y_test_pred, normalize=True, sample_weight=None)\n"
   ]
  },
  {
   "cell_type": "code",
   "execution_count": 36,
   "metadata": {
    "collapsed": false
   },
   "outputs": [
    {
     "name": "stdout",
     "output_type": "stream",
     "text": [
      "#5-DecisionTree\n"
     ]
    },
    {
     "data": {
      "text/plain": [
       "0.44871794871794873"
      ]
     },
     "execution_count": 36,
     "metadata": {},
     "output_type": "execute_result"
    }
   ],
   "source": [
    "#5-DecisionTree\n",
    "print('#5-DecisionTree')\n",
    "model = tree.DecisionTreeClassifier()\n",
    "model.fit(X_train, y_train)\n",
    "model.fit(X_train, y_train)\n",
    "y_test_pred = model.predict(X_test)\n",
    "metrics.accuracy_score(y_test, y_test_pred, normalize=True, sample_weight=None)\n"
   ]
  },
  {
   "cell_type": "code",
   "execution_count": 37,
   "metadata": {
    "collapsed": false
   },
   "outputs": [
    {
     "name": "stdout",
     "output_type": "stream",
     "text": [
      "#6-LDA\n"
     ]
    },
    {
     "data": {
      "text/plain": [
       "0.34935897435897434"
      ]
     },
     "execution_count": 37,
     "metadata": {},
     "output_type": "execute_result"
    }
   ],
   "source": [
    "#6-LDA\n",
    "print('#6-LDA')\n",
    "model = LinearDiscriminantAnalysis(solver='lsqr', shrinkage=None) #shrinkage='auto'\n",
    "model.fit(X_train, y_train)\n",
    "model.fit(X_train, y_train)\n",
    "y_test_pred = model.predict(X_test)\n",
    "metrics.accuracy_score(y_test, y_test_pred, normalize=True, sample_weight=None)\n"
   ]
  },
  {
   "cell_type": "code",
   "execution_count": 38,
   "metadata": {
    "collapsed": false
   },
   "outputs": [
    {
     "name": "stdout",
     "output_type": "stream",
     "text": [
      "#7-GaussianNB\n"
     ]
    },
    {
     "data": {
      "text/plain": [
       "0.2564102564102564"
      ]
     },
     "execution_count": 38,
     "metadata": {},
     "output_type": "execute_result"
    }
   ],
   "source": [
    "#7-GaussianNB\n",
    "print('#7-GaussianNB')\n",
    "model = GaussianNB()\n",
    "model.fit(X_train, y_train)\n",
    "model.fit(X_train, y_train)\n",
    "y_test_pred = model.predict(X_test)\n",
    "metrics.accuracy_score(y_test, y_test_pred, normalize=True, sample_weight=None)\n"
   ]
  }
 ],
 "metadata": {
  "anaconda-cloud": {},
  "kernelspec": {
   "display_name": "Python 3.8.10 64-bit",
   "language": "python",
   "name": "python3"
  },
  "language_info": {
   "codemirror_mode": {
    "name": "ipython",
    "version": 3
   },
   "file_extension": ".py",
   "mimetype": "text/x-python",
   "name": "python",
   "nbconvert_exporter": "python",
   "pygments_lexer": "ipython3",
   "version": "3.8.10"
  },
  "vscode": {
   "interpreter": {
    "hash": "916dbcbb3f70747c44a77c7bcd40155683ae19c65e1c03b4aa3499c5328201f1"
   }
  }
 },
 "nbformat": 4,
 "nbformat_minor": 1
}
