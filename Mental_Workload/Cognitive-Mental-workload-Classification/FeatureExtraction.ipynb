{
 "cells": [
  {
   "cell_type": "markdown",
   "metadata": {},
   "source": [
    "# Feature Extraction Module"
   ]
  },
  {
   "cell_type": "code",
   "execution_count": 1,
   "metadata": {
    "collapsed": false,
    "scrolled": true
   },
   "outputs": [],
   "source": [
    "import csv\n",
    "import pywt\n",
    "import pyedflib\n",
    "import numpy as np\n",
    "from spectrum import *\n",
    "from os import listdir\n",
    "from nitime import utils\n",
    "import scipy.stats as sp\n",
    "from os.path import isfile, join\n",
    "from nitime.viz import plot_tseries\n",
    "from matplotlib import pyplot as plt\n",
    "from nitime import algorithms as alg\n",
    "from nitime.timeseries import TimeSeries"
   ]
  },
  {
   "cell_type": "markdown",
   "metadata": {},
   "source": [
    "## Features List!"
   ]
  },
  {
   "cell_type": "code",
   "execution_count": 2,
   "metadata": {
    "collapsed": true
   },
   "outputs": [],
   "source": [
    "# names = ['Fractal Dimension','Coeffiecient of Variation','Mean of Vertex to Vertex Slope','Variance of Vertex to Vertex Slope',\n",
    "#          'Hjorth_Activity','Hjorth_Mobility','Hjorth_Complexity',\n",
    "#          'Kurtosis','2nd Difference Mean','2nd Difference Max',\n",
    "#          'Skewness','1st Difference Mean','1st Difference Max',\n",
    "#          'FFT Delta MaxPower','FFT Theta MaxPower','FFT Alpha MaxPower','FFT Beta MaxPower','Delta/Theta','Delta/Alpha','Theta/Alpha','(Delta+Theta)/Alpha',\n",
    "#          '1Wavelet Approximate Mean','Wavelet Approximate Std Deviation','Wavelet Approximate Energy','Wavelet Detailed Mean','Wavelet Detailed Std Deviation','Wavelet Detailed Energy','Wavelet Approximate Entropy','Wavelet Detailed Entropy',\n",
    "#          '2Wavelet Approximate Mean','Wavelet Approximate Std Deviation','Wavelet Approximate Energy','Wavelet Detailed Mean','Wavelet Detailed Std Deviation','Wavelet Detailed Energy','Wavelet Approximate Entropy','Wavelet Detailed Entropy',\n",
    "#          '3Wavelet Approximate Mean','Wavelet Approximate Std Deviation','Wavelet Approximate Energy','Wavelet Detailed Mean','Wavelet Detailed Std Deviation','Wavelet Detailed Energy','Wavelet Approximate Entropy','Wavelet Detailed Entropy',\n",
    "#          '4Wavelet Approximate Mean','Wavelet Approximate Std Deviation','Wavelet Approximate Energy','Wavelet Detailed Mean','Wavelet Detailed Std Deviation','Wavelet Detailed Energy','Wavelet Approximate Entropy','Wavelet Detailed Entropy',\n",
    "#          '5Wavelet Approximate Mean','Wavelet Approximate Std Deviation','Wavelet Approximate Energy','Wavelet Detailed Mean','Wavelet Detailed Std Deviation','Wavelet Detailed Energy','Wavelet Approximate Entropy','Wavelet Detailed Entropy',\n",
    "#          '6Wavelet Approximate Mean','Wavelet Approximate Std Deviation','Wavelet Approximate Energy','Wavelet Detailed Mean','Wavelet Detailed Std Deviation','Wavelet Detailed Energy','Wavelet Approximate Entropy','Wavelet Detailed Entropy',\n",
    "#          '7Wavelet Approximate Mean','Wavelet Approximate Std Deviation','Wavelet Approximate Energy','Wavelet Detailed Mean','Wavelet Detailed Std Deviation','Wavelet Detailed Energy','Wavelet Approximate Entropy','Wavelet Detailed Entropy',\n",
    "#          '8Wavelet Approximate Mean','Wavelet Approximate Std Deviation','Wavelet Approximate Energy','Wavelet Detailed Mean','Wavelet Detailed Std Deviation','Wavelet Detailed Energy','Wavelet Approximate Entropy','Wavelet Detailed Entropy',\n",
    "#          '9Wavelet Approximate Mean','Wavelet Approximate Std Deviation','Wavelet Approximate Energy','Wavelet Detailed Mean','Wavelet Detailed Std Deviation','Wavelet Detailed Energy','Wavelet Approximate Entropy','Wavelet Detailed Entropy',\n",
    "#          '10Wavelet Approximate Mean','Wavelet Approximate Std Deviation','Wavelet Approximate Energy','Wavelet Detailed Mean','Wavelet Detailed Std Deviation','Wavelet Detailed Energy','Wavelet Approximate Entropy','Wavelet Detailed Entropy',\n",
    "#          '11Wavelet Approximate Mean','Wavelet Approximate Std Deviation','Wavelet Approximate Energy','Wavelet Detailed Mean','Wavelet Detailed Std Deviation','Wavelet Detailed Energy','Wavelet Approximate Entropy','Wavelet Detailed Entropy',\n",
    "#          '12Wavelet Approximate Mean','Wavelet Approximate Std Deviation','Wavelet Approximate Energy','Wavelet Detailed Mean','Wavelet Detailed Std Deviation','Wavelet Detailed Energy','Wavelet Approximate Entropy','Wavelet Detailed Entropy',\n",
    "#          '13Wavelet Approximate Mean','Wavelet Approximate Std Deviation','Wavelet Approximate Energy','Wavelet Detailed Mean','Wavelet Detailed Std Deviation','Wavelet Detailed Energy','Wavelet Approximate Entropy','Wavelet Detailed Entropy',\n",
    "#          '14Wavelet Approximate Mean','Wavelet Approximate Std Deviation','Wavelet Approximate Energy','Wavelet Detailed Mean','Wavelet Detailed Std Deviation','Wavelet Detailed Energy','Wavelet Approximate Entropy','Wavelet Detailed Entropy',\n",
    "#          'AR1','AR2','AR3','AR4','AR5','AR6','AR7','AR8','AR9','AR10','AR11','AR12','AR13','AR14','AR15','AR16','AR17','AR18',\n",
    "#          'AR19','AR20','AR21','AR22','AR23','AR24','AR25','AR26','AR27','AR28','AR29','AR30','AR31','AR32','AR33','AR34','AR35','AR36','AR37','AR38','AR39','AR40','AR41','AR42'\n",
    "#         ]\n",
    "names = ['Coeffiecient of Variation','Mean of Vertex to Vertex Slope','Variance of Vertex to Vertex Slope',\n",
    "         'Hjorth_Activity','Hjorth_Mobility','Hjorth_Complexity',\n",
    "         'Kurtosis','2nd Difference Mean','2nd Difference Max',\n",
    "         'Skewness','1st Difference Mean','1st Difference Max',\n",
    "         'FFT Delta MaxPower','FFT Theta MaxPower','FFT Alpha MaxPower','FFT Beta MaxPower','Delta/Theta','Delta/Alpha','Theta/Alpha','(Delta+Theta)/Alpha',\n",
    "         '1Wavelet Approximate Mean','Wavelet Approximate Std Deviation','Wavelet Approximate Energy','Wavelet Detailed Mean','Wavelet Detailed Std Deviation','Wavelet Detailed Energy','Wavelet Approximate Entropy','Wavelet Detailed Entropy',\n",
    "         '2Wavelet Approximate Mean','Wavelet Approximate Std Deviation','Wavelet Approximate Energy','Wavelet Detailed Mean','Wavelet Detailed Std Deviation','Wavelet Detailed Energy','Wavelet Approximate Entropy','Wavelet Detailed Entropy',\n",
    "         '3Wavelet Approximate Mean','Wavelet Approximate Std Deviation','Wavelet Approximate Energy','Wavelet Detailed Mean','Wavelet Detailed Std Deviation','Wavelet Detailed Energy','Wavelet Approximate Entropy','Wavelet Detailed Entropy',\n",
    "         '4Wavelet Approximate Mean','Wavelet Approximate Std Deviation','Wavelet Approximate Energy','Wavelet Detailed Mean','Wavelet Detailed Std Deviation','Wavelet Detailed Energy','Wavelet Approximate Entropy','Wavelet Detailed Entropy',\n",
    "         '5Wavelet Approximate Mean','Wavelet Approximate Std Deviation','Wavelet Approximate Energy','Wavelet Detailed Mean','Wavelet Detailed Std Deviation','Wavelet Detailed Energy','Wavelet Approximate Entropy','Wavelet Detailed Entropy',\n",
    "         '6Wavelet Approximate Mean','Wavelet Approximate Std Deviation','Wavelet Approximate Energy','Wavelet Detailed Mean','Wavelet Detailed Std Deviation','Wavelet Detailed Energy','Wavelet Approximate Entropy','Wavelet Detailed Entropy',\n",
    "         '7Wavelet Approximate Mean','Wavelet Approximate Std Deviation','Wavelet Approximate Energy','Wavelet Detailed Mean','Wavelet Detailed Std Deviation','Wavelet Detailed Energy','Wavelet Approximate Entropy','Wavelet Detailed Entropy',\n",
    "         '8Wavelet Approximate Mean','Wavelet Approximate Std Deviation','Wavelet Approximate Energy','Wavelet Detailed Mean','Wavelet Detailed Std Deviation','Wavelet Detailed Energy','Wavelet Approximate Entropy','Wavelet Detailed Entropy',\n",
    "         '9Wavelet Approximate Mean','Wavelet Approximate Std Deviation','Wavelet Approximate Energy','Wavelet Detailed Mean','Wavelet Detailed Std Deviation','Wavelet Detailed Energy','Wavelet Approximate Entropy','Wavelet Detailed Entropy',\n",
    "         '10Wavelet Approximate Mean','Wavelet Approximate Std Deviation','Wavelet Approximate Energy','Wavelet Detailed Mean','Wavelet Detailed Std Deviation','Wavelet Detailed Energy','Wavelet Approximate Entropy','Wavelet Detailed Entropy',\n",
    "         '11Wavelet Approximate Mean','Wavelet Approximate Std Deviation','Wavelet Approximate Energy','Wavelet Detailed Mean','Wavelet Detailed Std Deviation','Wavelet Detailed Energy','Wavelet Approximate Entropy','Wavelet Detailed Entropy',\n",
    "         '12Wavelet Approximate Mean','Wavelet Approximate Std Deviation','Wavelet Approximate Energy','Wavelet Detailed Mean','Wavelet Detailed Std Deviation','Wavelet Detailed Energy','Wavelet Approximate Entropy','Wavelet Detailed Entropy',\n",
    "         '13Wavelet Approximate Mean','Wavelet Approximate Std Deviation','Wavelet Approximate Energy','Wavelet Detailed Mean','Wavelet Detailed Std Deviation','Wavelet Detailed Energy','Wavelet Approximate Entropy','Wavelet Detailed Entropy',\n",
    "         '14Wavelet Approximate Mean','Wavelet Approximate Std Deviation','Wavelet Approximate Energy','Wavelet Detailed Mean','Wavelet Detailed Std Deviation','Wavelet Detailed Energy','Wavelet Approximate Entropy','Wavelet Detailed Entropy',\n",
    "         'AR1','AR2','AR3','AR4','AR5','AR6','AR7','AR8','AR9','AR10','AR11','AR12','AR13','AR14','AR15','AR16','AR17','AR18',\n",
    "         'AR19','AR20','AR21','AR22','AR23','AR24','AR25','AR26','AR27','AR28','AR29','AR30','AR31','AR32','AR33','AR34','AR35','AR36','AR37','AR38','AR39','AR40','AR41','AR42'\n",
    "        ]"
   ]
  },
  {
   "cell_type": "markdown",
   "metadata": {},
   "source": [
    "### Fractal Dimension!"
   ]
  },
  {
   "cell_type": "code",
   "execution_count": 4,
   "metadata": {
    "collapsed": true
   },
   "outputs": [],
   "source": [
    "def fractal_dimension(Z, threshold=0.9):\n",
    "\n",
    "    # Only for 2d image\n",
    "    assert(len(Z.shape) == 2)\n",
    "\n",
    "    # From https://github.com/rougier/numpy-100 (#87)\n",
    "    def boxcount(Z, k):\n",
    "        S = np.add.reduceat(\n",
    "            np.add.reduceat(Z, np.arange(0, Z.shape[0], k), axis=0),\n",
    "                               np.arange(0, Z.shape[1], k), axis=1)\n",
    "\n",
    "        # We count non-empty (0) and non-full boxes (k*k)\n",
    "        return len(np.where((S > 0) & (S < k*k))[0])\n",
    "\n",
    "\n",
    "    # Transform Z into a binary array\n",
    "    Z = (Z < threshold)\n",
    "\n",
    "    # Minimal dimension of image\n",
    "    p = min(Z.shape)\n",
    "\n",
    "    # Greatest power of 2 less than or equal to p\n",
    "    n = 2**np.floor(np.log(p)/np.log(2))\n",
    "\n",
    "    # Extract the exponent\n",
    "    n = int(np.log(n)/np.log(2))\n",
    "\n",
    "    # Build successive box sizes (from 2**n down to 2**1)\n",
    "    sizes = 2**np.arange(n, 1, -1)\n",
    "\n",
    "    # Actual box counting with decreasing size\n",
    "    counts = []\n",
    "    for size in sizes:\n",
    "        counts.append(boxcount(Z, size))\n",
    "\n",
    "    # Fit the successive log(sizes) with log (counts)\n",
    "    coeffs = np.polyfit(np.log(sizes), np.log(counts), 1)\n",
    "    return -coeffs[0]"
   ]
  },
  {
   "cell_type": "markdown",
   "metadata": {},
   "source": [
    "### Coefficient of Varaition"
   ]
  },
  {
   "cell_type": "code",
   "execution_count": 5,
   "metadata": {
    "collapsed": false
   },
   "outputs": [],
   "source": [
    "def coeff_var(a):\n",
    "    b = a #Extracting the data from the 14 channels\n",
    "    output = np.zeros(len(b)) #Initializing the output array with zeros\n",
    "    k = 0; #For counting the current row no.\n",
    "    for i in b:\n",
    "        mean_i = np.mean(i) #Saving the mean of array i\n",
    "        std_i = np.std(i) #Saving the standard deviation of array i\n",
    "        output[k] = std_i/mean_i #computing coefficient of variation\n",
    "        k=k+1\n",
    "    return np.sum(output)/14"
   ]
  },
  {
   "cell_type": "markdown",
   "metadata": {},
   "source": [
    "### Mean of Vertex to Vertex Slope"
   ]
  },
  {
   "cell_type": "code",
   "execution_count": 6,
   "metadata": {
    "collapsed": true
   },
   "outputs": [],
   "source": [
    "import heapq\n",
    "from scipy.signal import argrelextrema\n",
    "\n",
    "\n",
    "def first_diff(i):\n",
    "    b=i    \n",
    "    \n",
    "    out = np.zeros(len(b))\n",
    "    \n",
    "    for j in range(len(i)):\n",
    "        out[j] = b[j-1]-b[j]# Obtaining the 1st Diffs\n",
    "        \n",
    "        j=j+1\n",
    "        c=out[1:len(out)]\n",
    "    return c #returns first diff\n",
    "\n",
    "\n",
    "def slope_mean(p):\n",
    "    b = p #Extracting the data from the 14 channels\n",
    "    output = np.zeros(len(b)) #Initializing the output array with zeros\n",
    "    res = np.zeros(len(b)-1)\n",
    "    \n",
    "    k = 0; #For counting the current row no.\n",
    "    for i in b:\n",
    "        x=i\n",
    "        amp_max = i[argrelextrema(x, np.greater)[0]]\n",
    "        t_max = argrelextrema(x, np.greater)[0]\n",
    "        amp_min = i[argrelextrema(x, np.less)[0]]\n",
    "        t_min = argrelextrema(x, np.less)[0]\n",
    "        t = np.concatenate((t_max,t_min),axis=0)\n",
    "        t.sort()#sort on the basis of time\n",
    "\n",
    "        h=0\n",
    "        amp = np.zeros(len(t))\n",
    "        res = np.zeros(len(t)-1)\n",
    "        for l in range(len(t)):\n",
    "            amp[l]=i[t[l]]\n",
    "           \n",
    "        \n",
    "        amp_diff = first_diff(amp)\n",
    "        \n",
    "        t_diff = first_diff(t)\n",
    "        \n",
    "        for q in range(len(amp_diff)):\n",
    "            res[q] = amp_diff[q]/t_diff[q]         \n",
    "        output[k] = np.mean(res) \n",
    "        k=k+1\n",
    "    return np.sum(output)/14\n"
   ]
  },
  {
   "cell_type": "markdown",
   "metadata": {},
   "source": [
    "### Variance of Vertex to Vertex Slope"
   ]
  },
  {
   "cell_type": "code",
   "execution_count": 7,
   "metadata": {
    "collapsed": false
   },
   "outputs": [],
   "source": [
    "import heapq\n",
    "from scipy.signal import argrelextrema\n",
    "\n",
    "\n",
    "def first_diff(i):\n",
    "    b=i    \n",
    "    \n",
    "    out = np.zeros(len(b))\n",
    "    \n",
    "    for j in range(len(i)):\n",
    "        out[j] = b[j-1]-b[j]# Obtaining the 1st Diffs\n",
    "        \n",
    "        j=j+1\n",
    "        c=out[1:len(out)]\n",
    "    return c #returns first diff\n",
    "\n",
    "\n",
    "def slope_var(p):\n",
    "    b = p #Extracting the data from the 14 channels\n",
    "    output = np.zeros(len(b)) #Initializing the output array with zeros\n",
    "    res = np.zeros(len(b)-1)\n",
    "    \n",
    "    k = 0; #For counting the current row no.\n",
    "    for i in b:\n",
    "        x=i\n",
    "        amp_max = i[argrelextrema(x, np.greater)[0]]#storing maxima value\n",
    "        t_max = argrelextrema(x, np.greater)[0]#storing time for maxima\n",
    "        amp_min = i[argrelextrema(x, np.less)[0]]#storing minima value\n",
    "        t_min = argrelextrema(x, np.less)[0]#storing time for minima value\n",
    "        t = np.concatenate((t_max,t_min),axis=0) #making a single matrix of all matrix\n",
    "        t.sort() #sorting according to time\n",
    "\n",
    "        h=0\n",
    "        amp = np.zeros(len(t))\n",
    "        res = np.zeros(len(t)-1)\n",
    "        for l in range(len(t)):\n",
    "            amp[l]=i[t[l]]\n",
    "           \n",
    "        \n",
    "        amp_diff = first_diff(amp)\n",
    "        \n",
    "        t_diff = first_diff(t)\n",
    "        \n",
    "        for q in range(len(amp_diff)):\n",
    "            res[q] = amp_diff[q]/t_diff[q] #calculating slope        \n",
    "    \n",
    "        output[k] = np.var(res) \n",
    "        k=k+1#counting k\n",
    "    return np.sum(output)/14"
   ]
  },
  {
   "cell_type": "markdown",
   "metadata": {},
   "source": [
    "### Hjorth    "
   ]
  },
  {
   "cell_type": "code",
   "execution_count": 8,
   "metadata": {
    "collapsed": true
   },
   "outputs": [],
   "source": [
    "def hjorth(input):                                             # function for hjorth \n",
    "    realinput = input\n",
    "    hjorth_activity = np.zeros(len(realinput))\n",
    "    hjorth_mobility = np.zeros(len(realinput))\n",
    "    hjorth_diffmobility = np.zeros(len(realinput))\n",
    "    hjorth_complexity = np.zeros(len(realinput))\n",
    "    diff_input = np.diff(realinput)\n",
    "    diff_diffinput = np.diff(diff_input)\n",
    "    k = 0\n",
    "    for j in realinput:\n",
    "        hjorth_activity[k] = np.var(j)\n",
    "        hjorth_mobility[k] = np.sqrt(np.var(diff_input[k])/hjorth_activity[k])\n",
    "        hjorth_diffmobility[k] = np.sqrt(np.var(diff_diffinput[k])/np.var(diff_input[k]))\n",
    "        hjorth_complexity[k] = hjorth_diffmobility[k]/hjorth_mobility[k]\n",
    "        k = k+1\n",
    "    return np.sum(hjorth_activity)/14, np.sum(hjorth_mobility)/14, np.sum(hjorth_complexity)/14                       #returning hjorth activity, hjorth mobility , hjorth complexity"
   ]
  },
  {
   "cell_type": "markdown",
   "metadata": {},
   "source": [
    "### Kurtosis"
   ]
  },
  {
   "cell_type": "code",
   "execution_count": 9,
   "metadata": {
    "collapsed": false
   },
   "outputs": [],
   "source": [
    "def kurtosis(a):\n",
    "    b = a # Extracting the data from the 14 channels\n",
    "    output = np.zeros(len(b)) # Initializing the output array with zeros (length = 14)\n",
    "    k = 0; # For counting the current row no.\n",
    "    for i in b:\n",
    "        mean_i = np.mean(i) # Saving the mean of array i\n",
    "        std_i = np.std(i) # Saving the standard deviation of array i\n",
    "        t = 0.0\n",
    "        for j in i:\n",
    "            t += (pow((j-mean_i)/std_i,4)-3)\n",
    "        kurtosis_i = t/len(i) # Formula: (1/N)*(summation(x_i-mean)/standard_deviation)^4-3\n",
    "        output[k] = kurtosis_i # Saving the kurtosis in the array created\n",
    "        k +=1 # Updating the current row no.\n",
    "    return np.sum(output)/14"
   ]
  },
  {
   "cell_type": "markdown",
   "metadata": {},
   "source": [
    "### Second Difference Mean"
   ]
  },
  {
   "cell_type": "code",
   "execution_count": 10,
   "metadata": {
    "collapsed": false
   },
   "outputs": [],
   "source": [
    "def secDiffMean(a):\n",
    "    b = a # Extracting the data of the 14 channels\n",
    "    output = np.zeros(len(b)) # Initializing the output array with zeros (length = 14)\n",
    "    temp1 = np.zeros(len(b[0])-1) # To store the 1st Diffs\n",
    "    k = 0; # For counting the current row no.\n",
    "    for i in b:\n",
    "        t = 0.0\n",
    "        for j in range(len(i)-1):\n",
    "            temp1[j] = abs(i[j+1]-i[j]) # Obtaining the 1st Diffs\n",
    "        for j in range(len(i)-2):\n",
    "            t += abs(temp1[j+1]-temp1[j]) # Summing the 2nd Diffs\n",
    "        output[k] = t/(len(i)-2) # Calculating the mean of the 2nd Diffs\n",
    "        k +=1 # Updating the current row no.\n",
    "    return np.sum(output)/14"
   ]
  },
  {
   "cell_type": "markdown",
   "metadata": {},
   "source": [
    "### Second Difference Max"
   ]
  },
  {
   "cell_type": "code",
   "execution_count": 11,
   "metadata": {
    "collapsed": false
   },
   "outputs": [],
   "source": [
    "def secDiffMax(a):\n",
    "    b = a # Extracting the data from the 14 channels\n",
    "    output = np.zeros(len(b)) # Initializing the output array with zeros (length = 14)\n",
    "    temp1 = np.zeros(len(b[0])-1) # To store the 1st Diffs\n",
    "    k = 0; # For counting the current row no.\n",
    "    t = 0.0\n",
    "    for i in b:\n",
    "        for j in range(len(i)-1):\n",
    "            temp1[j] = abs(i[j+1]-i[j]) # Obtaining the 1st Diffs\n",
    "        t = temp1[1] - temp1[0]\n",
    "        for j in range(len(i)-2):\n",
    "            if abs(temp1[j+1]-temp1[j]) > t :\n",
    "                t = temp1[j+1]-temp1[j] # Comparing current Diff with the last updated Diff Max\n",
    "\n",
    "        output[k] = t # Storing the 2nd Diff Max for channel k\n",
    "        k +=1 # Updating the current row no.\n",
    "    return np.sum(output)/14\n"
   ]
  },
  {
   "cell_type": "markdown",
   "metadata": {
    "collapsed": true
   },
   "source": [
    "### Skewness"
   ]
  },
  {
   "cell_type": "code",
   "execution_count": 12,
   "metadata": {
    "collapsed": false
   },
   "outputs": [],
   "source": [
    "def skewness(arr):\n",
    "    data = arr \n",
    "    skew_array = np.zeros(len(data)) #Initialinling the array as all 0s\n",
    "    index = 0; #current cell position in the output array\n",
    "   \n",
    "    for i in data:\n",
    "        skew_array[index]=sp.stats.skew(i,axis=0,bias=True)\n",
    "        index+=1 #updating the cell position\n",
    "    return np.sum(skew_array)/14"
   ]
  },
  {
   "cell_type": "markdown",
   "metadata": {
    "collapsed": true
   },
   "source": [
    "### First Difference Mean"
   ]
  },
  {
   "cell_type": "code",
   "execution_count": 13,
   "metadata": {
    "collapsed": false
   },
   "outputs": [],
   "source": [
    "def first_diff_mean(arr):\n",
    "    data = arr \n",
    "    diff_mean_array = np.zeros(len(data)) #Initialinling the array as all 0s\n",
    "    index = 0; #current cell position in the output array\n",
    "   \n",
    "    for i in data:\n",
    "        sum=0.0#initializing the sum at the start of each iteration\n",
    "        for j in range(len(i)-1):\n",
    "            sum += abs(i[j+1]-i[j]) # Obtaining the 1st Diffs\n",
    "           \n",
    "        diff_mean_array[index]=sum/(len(i)-1)\n",
    "        index+=1 #updating the cell position\n",
    "    return np.sum(diff_mean_array)/14"
   ]
  },
  {
   "cell_type": "markdown",
   "metadata": {
    "collapsed": true
   },
   "source": [
    "### First Difference Max"
   ]
  },
  {
   "cell_type": "code",
   "execution_count": 14,
   "metadata": {
    "collapsed": false
   },
   "outputs": [],
   "source": [
    "def first_diff_max(arr):\n",
    "    data = arr \n",
    "    diff_max_array = np.zeros(len(data)) #Initialinling the array as all 0s\n",
    "    first_diff = np.zeros(len(data[0])-1)#Initialinling the array as all 0s \n",
    "    index = 0; #current cell position in the output array\n",
    "   \n",
    "    for i in data:\n",
    "        max=0.0#initializing at the start of each iteration\n",
    "        for j in range(len(i)-1):\n",
    "            first_diff[j] = abs(i[j+1]-i[j]) # Obtaining the 1st Diffs\n",
    "            if first_diff[j]>max: \n",
    "                max=first_diff[j] # finding the maximum of the first differences\n",
    "        diff_max_array[index]=max\n",
    "        index+=1 #updating the cell position\n",
    "    return np.sum(diff_max_array)/14"
   ]
  },
  {
   "cell_type": "markdown",
   "metadata": {},
   "source": [
    "## Wavelet Fetures!\n",
    "### Approx Mean, Approx Std Deviation, Approx Energy, Detailed Mean, Detailed Std Deviation, Detailed Energy, Approx Entropy & Detailed Entropy"
   ]
  },
  {
   "cell_type": "code",
   "execution_count": 15,
   "metadata": {
    "collapsed": true
   },
   "outputs": [],
   "source": [
    "def wavelet_features(epoch,channels):\n",
    "    cA_values = []\n",
    "    cD_values = []\n",
    "    cA_mean = []\n",
    "    cA_std = []\n",
    "    cA_Energy =[]\n",
    "    cD_mean = []\n",
    "    cD_std = []\n",
    "    cD_Energy = []\n",
    "    Entropy_D = []\n",
    "    Entropy_A = []\n",
    "    wfeatures = []\n",
    "    for i in range(channels):\n",
    "        cA,cD=pywt.dwt(epoch[i,:],'coif1')\n",
    "        cA_values.append(cA)\n",
    "        cD_values.append(cD)\t\t#calculating the coefficients of wavelet transform.\n",
    "    for x in range(channels):   \n",
    "        cA_mean.append(np.mean(cA_values[x]))\n",
    "        wfeatures.append(np.mean(cA_values[x]))\n",
    "        \n",
    "        cA_std.append(abs(np.std(cA_values[x])))\n",
    "        wfeatures.append(abs(np.std(cA_values[x])))\n",
    "        \n",
    "        cA_Energy.append(abs(np.sum(np.square(cA_values[x]))))\n",
    "        wfeatures.append(abs(np.sum(np.square(cA_values[x]))))\n",
    "        \n",
    "        cD_mean.append(np.mean(cD_values[x]))\t\t# mean and standard deviation values of coefficents of each channel is stored .\n",
    "        wfeatures.append(np.mean(cD_values[x]))\n",
    "\n",
    "        cD_std.append(abs(np.std(cD_values[x])))\n",
    "        wfeatures.append(abs(np.std(cD_values[x])))\n",
    "        \n",
    "        cD_Energy.append(abs(np.sum(np.square(cD_values[x]))))\n",
    "        wfeatures.append(abs(np.sum(np.square(cD_values[x]))))\n",
    "        \n",
    "        Entropy_D.append(abs(np.sum(np.square(cD_values[x]) * np.log(np.square(cD_values[x])))))\n",
    "        wfeatures.append(abs(np.sum(np.square(cD_values[x]) * np.log(np.square(cD_values[x])))))\n",
    "        \n",
    "        Entropy_A.append(abs(np.sum(np.square(cA_values[x]) * np.log(np.square(cA_values[x]))))) \n",
    "        wfeatures.append(abs(np.sum(np.square(cA_values[x]) * np.log(np.square(cA_values[x])))))\n",
    "    return wfeatures"
   ]
  },
  {
   "cell_type": "markdown",
   "metadata": {},
   "source": [
    "### FFT Max Power - Delta, Theta, Alpha & Beta Band!"
   ]
  },
  {
   "cell_type": "code",
   "execution_count": 16,
   "metadata": {
    "collapsed": true
   },
   "outputs": [],
   "source": [
    "from scipy import signal\n",
    "\n",
    "def maxPwelch(data_win,Fs):\n",
    " \n",
    "    \n",
    "    BandF = [0.1, 3, 7, 12, 30]\n",
    "    PMax = np.zeros([14,(len(BandF)-1)]);\n",
    "    \n",
    "    for j in range(14):\n",
    "        f,Psd = signal.welch(data_win[j,:], Fs)\n",
    "        \n",
    "        for i in range(len(BandF)-1):\n",
    "            fr = np.where((f>BandF[i]) & (f<=BandF[i+1]))\n",
    "            PMax[j,i] = np.max(Psd[fr])\n",
    "    \n",
    "    return np.sum(PMax[:,0])/14,np.sum(PMax[:,1])/14,np.sum(PMax[:,2])/14,np.sum(PMax[:,3])/14\n"
   ]
  },
  {
   "cell_type": "markdown",
   "metadata": {},
   "source": [
    "## Shanon Entropy"
   ]
  },
  {
   "cell_type": "code",
   "execution_count": 17,
   "metadata": {
    "collapsed": false
   },
   "outputs": [],
   "source": [
    "def shanon_entropy(labels): # Shanon Entropy\n",
    "    \"\"\" Computes entropy of 0-1 vector. \"\"\"\n",
    "    n_labels = len(labels)\n",
    "    counts = np.bincount(labels)\n",
    "    probs = counts[np.nonzero(counts)] / n_labels\n",
    "    \n",
    "    n_classes = len(probs)\n",
    "\n",
    "    if n_classes <= 1:\n",
    "        return 0\n",
    "    return - np.sum(probs * np.log(probs)) / np.log(n_classes)\n",
    "\n"
   ]
  },
  {
   "cell_type": "markdown",
   "metadata": {},
   "source": [
    "##  Spectral Entropy"
   ]
  },
  {
   "cell_type": "code",
   "execution_count": 18,
   "metadata": {
    "collapsed": false
   },
   "outputs": [],
   "source": [
    "from numpy.fft import fft\n",
    "from numpy import zeros, floor, log10, log, mean, array, sqrt, vstack, cumsum, ones, log2, std\n",
    "from numpy.linalg import svd, lstsq\n",
    "import time\n",
    "\n",
    "def bin_power(X,Band,Fs):\n",
    "    C = fft(X)\n",
    "    C = abs(C)\n",
    "    Power =zeros(len(Band)-1);\n",
    "    for Freq_Index in xrange(0,len(Band)-1):\n",
    "        Freq = float(Band[Freq_Index])   ## Xin Liu\n",
    "        Next_Freq = float(Band[Freq_Index+1])\n",
    "        Power[Freq_Index] = sum(C[floor(Freq/Fs*len(X)):floor(Next_Freq/Fs*len(X))])\n",
    "    Power_Ratio = Power/sum(Power)\n",
    "    return Power, Power_Ratio\n",
    "\n",
    "\n",
    "def spectral_entropy(X, Fs, Power_Ratio = None):\n",
    "    \n",
    "    Band = [0.1, 3, 7, 12, 30]\n",
    "    if Power_Ratio is None:\n",
    "        Power, Power_Ratio = bin_power(X, Band, Fs)\n",
    "\n",
    "    Spectral_Entropy = 0\n",
    "    for i in xrange(0, len(Power_Ratio) - 1):\n",
    "        Spectral_Entropy += Power_Ratio[i] * log(Power_Ratio[i])\n",
    "    Spectral_Entropy /= log(len(Power_Ratio))     # to save time, minus one is omitted\n",
    "    print('Shape of Spectral Entropy = ',n.shape(Spectral_Entropy))\n",
    "    return -1 * Spectral_Entropy\n"
   ]
  },
  {
   "cell_type": "markdown",
   "metadata": {},
   "source": [
    "## Autoregressive model"
   ]
  },
  {
   "cell_type": "markdown",
   "metadata": {},
   "source": [
    "### Autoregression - Yule Walker Algorithm"
   ]
  },
  {
   "cell_type": "code",
   "execution_count": 19,
   "metadata": {
    "collapsed": false
   },
   "outputs": [],
   "source": [
    "def autogressiveModelParameters(labels):\n",
    "    b_labels = len(labels)\n",
    "    feature = []\n",
    "    for i in range(14):\n",
    "        coeff, sig = alg.AR_est_YW(labels[i,:], 11,)\n",
    "        feature.append(coeff)\n",
    "    a = []     \n",
    "    for i in range(11):\n",
    "        a.append(np.sum(feature[:][i])/14)\n",
    "     \n",
    "    return a"
   ]
  },
  {
   "cell_type": "markdown",
   "metadata": {},
   "source": [
    "### Autoregression  - Burg Algorithm"
   ]
  },
  {
   "cell_type": "code",
   "execution_count": 20,
   "metadata": {
    "collapsed": false
   },
   "outputs": [],
   "source": [
    "def autogressiveModelParametersBurg(labels):\n",
    "    feature = []\n",
    "    feature1 = []\n",
    "    model_order = 3\n",
    "    for i in range(14):\n",
    "        AR, rho, ref = arburg(labels[i], model_order)\n",
    "        feature.append(AR);\n",
    "    for j in range(14):\n",
    "        for i in range(model_order):\n",
    "            feature1.append(feature[j][i])\n",
    "\n",
    "    return feature1"
   ]
  },
  {
   "cell_type": "code",
   "execution_count": 24,
   "metadata": {},
   "outputs": [
    {
     "name": "stdout",
     "output_type": "stream",
     "text": [
      "['S01-01-25.09.2016.10.45.01.edf']\n"
     ]
    }
   ],
   "source": [
    "DualTwoBackfiles = [f for f in listdir('Training-Data/S01/Dual-2-Back') if isfile(join('Training-Data/S01/Dual-2-Back', f))]\n",
    "print(DualTwoBackfiles)"
   ]
  },
  {
   "cell_type": "code",
   "execution_count": 28,
   "metadata": {},
   "outputs": [
    {
     "name": "stdout",
     "output_type": "stream",
     "text": [
      "Extracting EDF parameters from /home/abhishek/Desktop/Project/Cognitive-Mental-workload-Classification/Training-Data/S01/Dual-2-Back/S01-01-25.09.2016.10.45.01.edf...\n",
      "EDF file detected\n",
      "Setting channel info structure...\n",
      "Creating raw.info structure...\n",
      "<class 'numpy.ndarray'>\n",
      "<Info | 7 non-empty values\n",
      " bads: []\n",
      " ch_names: COUNTER, INTERPOLATED, AF3, F7, F3, FC5, T7, P7, O1, O2, P8, T8, ...\n",
      " chs: 37 EEG\n",
      " custom_ref_applied: False\n",
      " highpass: 0.0 Hz\n",
      " lowpass: 64.0 Hz\n",
      " meas_date: 2020-09-25 10:45:01 UTC\n",
      " nchan: 37\n",
      " projs: []\n",
      " sfreq: 128.0 Hz\n",
      ">\n"
     ]
    }
   ],
   "source": [
    "import mne\n",
    "\n",
    "path = 'Training-Data/S01/Dual-2-Back/S01-01-25.09.2016.10.45.01.edf'\n",
    "data = mne.io.read_raw_edf(path)\n",
    "# print(data_path)\n",
    "# print(data.get_data())\n",
    "print(type(data.get_data()))\n",
    "print(data.info)\n",
    "# print(data.eeg)\n"
   ]
  },
  {
   "cell_type": "markdown",
   "metadata": {},
   "source": [
    "## Feature Vector Calculation"
   ]
  },
  {
   "cell_type": "code",
   "execution_count": 32,
   "metadata": {
    "collapsed": false,
    "scrolled": true
   },
   "outputs": [
    {
     "name": "stdout",
     "output_type": "stream",
     "text": [
      "Extracting EDF parameters from /home/abhishek/Desktop/Project/Cognitive-Mental-workload-Classification/Training-Data/S01/Idle/S01-01-25.09.2016.10.52.46.edf...\n",
      "EDF file detected\n",
      "Setting channel info structure...\n",
      "Creating raw.info structure...\n",
      "(24192, 37)\n"
     ]
    },
    {
     "ename": "TypeError",
     "evalue": "'builtin_function_or_method' object is not subscriptable",
     "output_type": "error",
     "traceback": [
      "\u001b[0;31m---------------------------------------------------------------------------\u001b[0m",
      "\u001b[0;31mTypeError\u001b[0m                                 Traceback (most recent call last)",
      "\u001b[1;32m/home/abhishek/Desktop/Project/Cognitive-Mental-workload-Classification/FeatureExtraction.ipynb Cell 44\u001b[0m in \u001b[0;36m<cell line: 30>\u001b[0;34m()\u001b[0m\n\u001b[1;32m     <a href='vscode-notebook-cell:/home/abhishek/Desktop/Project/Cognitive-Mental-workload-Classification/FeatureExtraction.ipynb#ch0000043?line=57'>58</a>\u001b[0m epoch \u001b[39m=\u001b[39m sigbufs[i\u001b[39m*\u001b[39m\u001b[39m128\u001b[39m:(i\u001b[39m+\u001b[39m\u001b[39m3\u001b[39m)\u001b[39m*\u001b[39m\u001b[39m128\u001b[39m,:]\n\u001b[1;32m     <a href='vscode-notebook-cell:/home/abhishek/Desktop/Project/Cognitive-Mental-workload-Classification/FeatureExtraction.ipynb#ch0000043?line=58'>59</a>\u001b[0m \u001b[39m# print('===================')\u001b[39;00m\n\u001b[1;32m     <a href='vscode-notebook-cell:/home/abhishek/Desktop/Project/Cognitive-Mental-workload-Classification/FeatureExtraction.ipynb#ch0000043?line=59'>60</a>\u001b[0m \u001b[39m# print(len(epoch[0]))\u001b[39;00m\n\u001b[1;32m     <a href='vscode-notebook-cell:/home/abhishek/Desktop/Project/Cognitive-Mental-workload-Classification/FeatureExtraction.ipynb#ch0000043?line=60'>61</a>\u001b[0m \u001b[39m# print('===================')\u001b[39;00m\n\u001b[0;32m---> <a href='vscode-notebook-cell:/home/abhishek/Desktop/Project/Cognitive-Mental-workload-Classification/FeatureExtraction.ipynb#ch0000043?line=61'>62</a>\u001b[0m \u001b[39mif\u001b[39;00m (\u001b[39mlen\u001b[39;49m[epoch]\u001b[39m==\u001b[39m\u001b[39m0\u001b[39m \u001b[39mor\u001b[39;00m \u001b[39mlen\u001b[39m(epoch[\u001b[39m0\u001b[39m]) \u001b[39m==\u001b[39m \u001b[39m0\u001b[39m):\n\u001b[1;32m     <a href='vscode-notebook-cell:/home/abhishek/Desktop/Project/Cognitive-Mental-workload-Classification/FeatureExtraction.ipynb#ch0000043?line=62'>63</a>\u001b[0m     \u001b[39mbreak\u001b[39;00m\n\u001b[1;32m     <a href='vscode-notebook-cell:/home/abhishek/Desktop/Project/Cognitive-Mental-workload-Classification/FeatureExtraction.ipynb#ch0000043?line=64'>65</a>\u001b[0m \u001b[39m#Coeffeicient of Variation\u001b[39;00m\n",
      "\u001b[0;31mTypeError\u001b[0m: 'builtin_function_or_method' object is not subscriptable"
     ]
    }
   ],
   "source": [
    "import mne\n",
    "\n",
    "idlefiles  = [f for f in listdir('Training-Data/S01/Idle') if isfile(join('Training-Data/S01/Idle', f))] \n",
    "OneBackfiles = [f for f in listdir('Training-Data/S01/1-Back') if isfile(join('Training-Data/S01/1-Back', f))]\n",
    "TwoBackfiles = [f for f in listdir('Training-Data/S01/2-Back') if isfile(join('Training-Data/S01/2-Back', f))]\n",
    "DualOneBackfiles = [f for f in listdir('Training-Data/S01/Dual-1-Back') if isfile(join('Training-Data/S01/Dual-1-Back', f))]\n",
    "DualTwoBackfiles = [f for f in listdir('Training-Data/S01/Dual-2-Back') if isfile(join('Training-Data/S01/Dual-2-Back', f))]\n",
    "\n",
    "files = []\n",
    "\n",
    "\n",
    "for i in idlefiles:\n",
    "    files.append([i,'Idle'])\n",
    "\n",
    "for i in OneBackfiles:\n",
    "    files.append([i,'1-Back'])\n",
    "\n",
    "for i in TwoBackfiles:\n",
    "   files.append([i,'2-Back'])\n",
    "\n",
    "for i in DualOneBackfiles:\n",
    "   files.append([i,'Dual-1-Back'])\n",
    "\n",
    "for i in DualTwoBackfiles:\n",
    "   files.append([i,'Dual-2-Back'])\n",
    "csvfile = 'Features/features.csv'\n",
    "mypath = 'Training-Data/S01/'\n",
    "# mypath = 'Training-Data/'\n",
    "\n",
    "with open(csvfile, \"a\",newline='') as output:\n",
    "    writer = csv.writer(output, lineterminator='\\n')\n",
    "    writer.writerow(names)\n",
    "    for counter in range(len(files)):\n",
    "        subfolder =  files[counter][1]\n",
    "        # print(subfolder)\n",
    "        tag = files[counter][1] \n",
    "        # print(tag)\n",
    "\n",
    "        ############################# Changed part ########################################\n",
    "        data_path = mypath + subfolder +'/'+files[counter][0]\n",
    "        data = mne.io.read_raw_edf(data_path)\n",
    "        # print(data.get_data().shape)\n",
    "\n",
    "        \n",
    "        ###################################################################################\n",
    "        # rows = csv.reader(open(data_path))\n",
    "        # print(type(rows))\n",
    "        # sigbufs = [l for l in rows]\n",
    "        rows = data.get_data()\n",
    "        sigbufs = [l for l in rows]\n",
    "        sigbufs = np.array(sigbufs)\n",
    "        sigbufs = sigbufs.transpose()\n",
    "        sigbufs = sigbufs.astype(float)\n",
    "        print(sigbufs.shape)\n",
    "\n",
    "        for i in np.arange(1,150,3):\n",
    "            features = []\n",
    "            epoch = sigbufs[i*128:(i+3)*128,:]\n",
    "            # print('===================')\n",
    "            # print(len(epoch[0]))\n",
    "            # print('===================')\n",
    "            if (len(epoch)==0 or len(epoch[0]) == 0):\n",
    "                break\n",
    "        \n",
    "            #Coeffeicient of Variation\n",
    "            features.append(coeff_var(epoch))\n",
    "\n",
    "            #Mean of Vertex to Vertex Slope\n",
    "            features.append(slope_mean(epoch))\n",
    "            \n",
    "            #Variance of Vertex to Vertex Slope\n",
    "            features.append(slope_var(epoch))\n",
    "\n",
    "            #Hjorth Parameters\n",
    "            feature_list = hjorth(epoch)\n",
    "            for feat in feature_list:\n",
    "                features.append(feat)\n",
    "            \n",
    "            #Kurtosis\n",
    "            features.append(kurtosis(epoch))\n",
    "\n",
    "            #Second Difference Mean\n",
    "            features.append(secDiffMean(epoch))\n",
    "\n",
    "            #Second Difference Max\n",
    "            features.append(secDiffMax(epoch))\n",
    "               \n",
    "            #Skewness\n",
    "            features.append(skewness(epoch))\n",
    " \n",
    "            #First Difference Mean\n",
    "            features.append(first_diff_mean(epoch))\n",
    "\n",
    "            #First Difference Max\n",
    "            features.append(first_diff_max(epoch))\n",
    "\n",
    "            # print(type(epoch))\n",
    "            epoch_t = epoch.transpose()\n",
    "            #FFT Max Power - Delta, Theta, Alpha & Beta Band!\n",
    "            # feature_list  =  maxPwelch(epoch,128)            \n",
    "            feature_list  =  maxPwelch(epoch_t,128)            \n",
    "            for feat in feature_list:\n",
    "                features.append(feat)\n",
    "            #FFT Frequency Ratios\n",
    "            features.append(feature_list[0]/feature_list[1])\n",
    "            features.append(feature_list[0]/feature_list[2])\n",
    "            features.append(feature_list[1]/feature_list[3])\n",
    "            features.append((feature_list[0] + feature_list[1])/feature_list[2])\n",
    "            \n",
    "            #Wavelet Fetures!      lineterminator\n",
    "            feature_list = wavelet_features(epoch,14)\n",
    "            for feat in feature_list:\n",
    "                features.append(feat)\n",
    "                    \n",
    "            #Autoregressive model Coefficients\n",
    "            feature_list = autogressiveModelParametersBurg(epoch)\n",
    "            for feat in feature_list:\n",
    "                features.append(feat.real)\n",
    "       \n",
    "            \"\"\"   e/S01-01-25.09.2016.10.52.46.edf\n",
    "<class '_csv.reader'>(epoch)idlefiles  = [f for f in listdir('Training-Data/S01/Idle') if isfile(join('Training-Data/S01/Idle', f))] \n",
    "            print('Shape SE = ',np.shape(abc))\n",
    "            features.append(abc)\n",
    "            \n",
    "            #Spectral Entropy\n",
    "            feature_list = spectral_entropy(epoch,128)\n",
    "            for feat in feature_list:\n",
    "                features.append(feat)        \n",
    "            \"\"\"\n",
    "            \n",
    "            tag\n",
    "            if tag == 'Idle':\n",
    "                myClass = 1\n",
    "\n",
    "            if tag == '1-Back':\n",
    "                myClass = 2\n",
    "            \n",
    "            if tag == '2-Back':\n",
    "                myClass = 3\n",
    "\n",
    "            if tag == 'Dual-1-Back':\n",
    "                myClass = 4\n",
    "                \n",
    "            if tag == 'Dual-2-Back':\n",
    "                myClass = 5\n",
    "                \n",
    "            features.append(myClass);        \n",
    "            writer.writerow(features)\n",
    "            \n",
    "            "
   ]
  },
  {
   "cell_type": "markdown",
   "metadata": {},
   "source": [
    "## Normalisation"
   ]
  },
  {
   "cell_type": "code",
   "execution_count": null,
   "metadata": {
    "collapsed": false
   },
   "outputs": [],
   "source": [
    "r = csv.reader(open('Features/features.csv')) \n",
    "lines = [l for l in r]"
   ]
  },
  {
   "cell_type": "code",
   "execution_count": null,
   "metadata": {},
   "outputs": [
    {
     "name": "stdout",
     "output_type": "stream",
     "text": [
      "51\n"
     ]
    }
   ],
   "source": [
    "print(len(lines))"
   ]
  },
  {
   "cell_type": "code",
   "execution_count": null,
   "metadata": {},
   "outputs": [
    {
     "name": "stdout",
     "output_type": "stream",
     "text": [
      "           Coeffiecient of Variation  Mean of Vertex to Vertex Slope  \\\n",
      "31.780737                   0.004372                        0.000058   \n",
      "31.772176                   0.003142                        0.000043   \n",
      "31.778741                   0.004706                        0.000042   \n",
      "31.781371                   0.003914                        0.000049   \n",
      "31.779008                   0.002515                        0.000051   \n",
      "31.763349                   0.003175                        0.000048   \n",
      "31.780943                   0.005394                        0.000047   \n",
      "31.780402                   0.002066                        0.000048   \n",
      "31.782271                   0.003631                        0.000035   \n",
      "31.782835                   0.004069                        0.000052   \n",
      "31.764726                   0.002763                        0.000047   \n",
      "31.780433                   0.003442                        0.000049   \n",
      "31.779452                   0.003804                        0.000043   \n",
      "31.782917                   0.001260                        0.000048   \n",
      "31.782946                   0.006598                        0.000043   \n",
      "31.778936                   0.003144                        0.000052   \n",
      "31.776436                   0.001640                        0.000056   \n",
      "31.782734                   0.004296                        0.000043   \n",
      "31.780464                   0.003485                        0.000049   \n",
      "31.777942                   0.001983                        0.000052   \n",
      "31.777686                   0.003369                        0.000056   \n",
      "31.781300                   0.004051                        0.000035   \n",
      "31.778033                   0.003983                        0.000061   \n",
      "31.782119                   0.002982                        0.000045   \n",
      "31.783031                   0.005853                        0.000042   \n",
      "31.779866                   0.005971                        0.000053   \n",
      "31.778987                   0.005798                        0.000044   \n",
      "31.780510                   0.003024                        0.000047   \n",
      "31.776925                   0.000618                        0.000062   \n",
      "31.777758                   0.002925                        0.000049   \n",
      "31.774236                   0.001126                        0.000042   \n",
      "31.786722                   0.004859                        0.000035   \n",
      "31.776978                   0.006369                        0.000059   \n",
      "31.771589                   0.003144                        0.000044   \n",
      "31.771536                   0.004119                        0.000052   \n",
      "31.773596                   0.002112                        0.000053   \n",
      "31.774281                   0.004178                        0.000034   \n",
      "31.771999                   0.004204                        0.000044   \n",
      "31.775293                   0.003276                        0.000056   \n",
      "31.774319                   0.004475                        0.000041   \n",
      "31.773884                   0.003223                        0.000049   \n",
      "31.771638                   0.002421                        0.000050   \n",
      "31.774174                   0.006645                        0.000047   \n",
      "31.776858                   0.002167                        0.000054   \n",
      "31.790496                   0.003441                        0.000035   \n",
      "31.771067                   0.004032                        0.000052   \n",
      "31.773267                   0.002273                        0.000049   \n",
      "31.779326                   0.004747                        0.000051   \n",
      "31.781935                   0.002973                        0.000047   \n",
      "31.780282                   0.005539                        0.000042   \n",
      "\n",
      "           Variance of Vertex to Vertex Slope  Hjorth_Activity  \\\n",
      "31.780737                            0.000108        14.124088   \n",
      "31.772176                            0.000108        14.079819   \n",
      "31.778741                            0.000108        14.081524   \n",
      "31.781371                            0.000108        14.104623   \n",
      "31.779008                            0.000108        14.098026   \n",
      "31.763349                            0.000108        14.067155   \n",
      "31.780943                            0.000108        14.113311   \n",
      "31.780402                            0.000108        14.093111   \n",
      "31.782271                            0.000108        14.084403   \n",
      "31.782835                            0.000108        14.105054   \n",
      "31.764726                            0.000108        14.065060   \n",
      "31.780433                            0.000108        14.099891   \n",
      "31.779452                            0.000108        14.096405   \n",
      "31.782917                            0.000108        14.104093   \n",
      "31.782946                            0.000108        14.093148   \n",
      "31.778936                            0.000108        14.103864   \n",
      "31.776436                            0.000108        14.100086   \n",
      "31.782734                            0.000108        14.092413   \n",
      "31.780464                            0.000108        14.107556   \n",
      "31.777942                            0.000108        14.093206   \n",
      "31.777686                            0.000108        14.121623   \n",
      "31.781300                            0.000108        14.086230   \n",
      "31.778033                            0.000108        14.111116   \n",
      "31.782119                            0.000108        14.118433   \n",
      "31.783031                            0.000108        14.091236   \n",
      "31.779866                            0.000108        14.101964   \n",
      "31.778987                            0.000108        14.095268   \n",
      "31.780510                            0.000108        14.081764   \n",
      "31.776925                            0.000108        14.114781   \n",
      "31.777758                            0.000108        14.088895   \n",
      "31.774236                            0.000108        14.068234   \n",
      "31.786722                            0.000108        14.110368   \n",
      "31.776978                            0.000108        14.115883   \n",
      "31.771589                            0.000108        14.078617   \n",
      "31.771536                            0.000108        14.087595   \n",
      "31.773596                            0.000108        14.091000   \n",
      "31.774281                            0.000108        14.074016   \n",
      "31.771999                            0.000108        14.072851   \n",
      "31.775293                            0.000108        14.099595   \n",
      "31.774319                            0.000108        14.080441   \n",
      "31.773884                            0.000108        14.073063   \n",
      "31.771638                            0.000108        14.097400   \n",
      "31.774174                            0.000108        14.091000   \n",
      "31.776858                            0.000108        14.096421   \n",
      "31.790496                            0.000108        14.091076   \n",
      "31.771067                            0.000108        14.107159   \n",
      "31.773267                            0.000108        14.074677   \n",
      "31.779326                            0.000108        14.098782   \n",
      "31.781935                            0.000108        14.101494   \n",
      "31.780282                            0.000108        14.096620   \n",
      "\n",
      "           Hjorth_Mobility  Hjorth_Complexity  Kurtosis  2nd Difference Mean  \\\n",
      "31.780737        82.237817         -48.925951  0.015568             0.102127   \n",
      "31.772176        82.418988         -48.921688  0.015542             0.101878   \n",
      "31.778741        82.448455         -48.924637  0.015517             0.101572   \n",
      "31.781371        82.323403         -48.925392  0.015539             0.102201   \n",
      "31.779008        82.371653         -48.927844  0.015518             0.101650   \n",
      "31.763349        82.483225         -48.924087  0.015499             0.101100   \n",
      "31.780943        82.274145         -48.927755  0.015531             0.102338   \n",
      "31.780402        82.400444         -48.925507  0.015534             0.101357   \n",
      "31.782271        82.409711         -48.924598  0.015530             0.101713   \n",
      "31.782835        82.326946         -48.923754  0.015543             0.101438   \n",
      "31.764726        82.505102         -48.924900  0.015491             0.100767   \n",
      "31.780433        82.331721         -48.927490  0.015508             0.102104   \n",
      "31.779452        82.379474         -48.927499  0.015501             0.101468   \n",
      "31.782917        82.347687         -48.927691  0.015532             0.101537   \n",
      "31.782946        82.318346         -48.921922  0.015525             0.101209   \n",
      "31.778936        82.361143         -48.929490  0.015502             0.101253   \n",
      "31.776436        82.356670         -48.930385  0.015510             0.101854   \n",
      "31.782734        82.376609         -48.921620  0.015535             0.101925   \n",
      "31.780464        82.322924         -48.926411  0.015543             0.101879   \n",
      "31.777942        82.407777         -48.930692  0.015506             0.101308   \n",
      "31.777686        82.252191         -48.928558  0.015528             0.102277   \n",
      "31.781300        82.362746         -48.923500  0.015515             0.102077   \n",
      "31.778033        82.329269         -48.928543  0.015524             0.101335   \n",
      "31.782119        82.302373         -48.926280  0.015525             0.101604   \n",
      "31.783031        82.379188         -48.925819  0.015503             0.102047   \n",
      "31.779866        82.351050         -48.927343  0.015515             0.101552   \n",
      "31.778987        82.349914         -48.925296  0.015530             0.101383   \n",
      "31.780510        82.344959         -48.917631  0.015486             0.100705   \n",
      "31.776925        82.354024         -48.930734  0.015512             0.101745   \n",
      "31.777758        82.396498         -48.922032  0.015526             0.101536   \n",
      "31.774236        82.498493         -48.926334  0.015494             0.101446   \n",
      "31.786722        82.280417         -48.931358  0.015506             0.101563   \n",
      "31.776978        82.293517         -48.925222  0.015536             0.102398   \n",
      "31.771589        82.426233         -48.928786  0.015487             0.100751   \n",
      "31.771536        82.410338         -48.927207  0.015502             0.101508   \n",
      "31.773596        82.398680         -48.926952  0.015516             0.101109   \n",
      "31.774281        82.430383         -48.924339  0.015503             0.100990   \n",
      "31.771999        82.469227         -48.926556  0.015492             0.101125   \n",
      "31.775293        82.350177         -48.923851  0.015562             0.101532   \n",
      "31.774319        82.432043         -48.926210  0.015517             0.101021   \n",
      "31.773884        82.479903         -48.922846  0.015525             0.100927   \n",
      "31.771638        82.360047         -48.929837  0.015507             0.101908   \n",
      "31.774174        82.360520         -48.926094  0.015498             0.101382   \n",
      "31.776858        82.388856         -48.922847  0.015533             0.101641   \n",
      "31.790496        82.360773         -48.924096  0.015522             0.102468   \n",
      "31.771067        82.297237         -48.919645  0.015590             0.101344   \n",
      "31.773267        82.483880         -48.922294  0.015540             0.101343   \n",
      "31.779326        82.362032         -48.925606  0.015529             0.101579   \n",
      "31.781935        82.354876         -48.926361  0.015540             0.101571   \n",
      "31.780282        82.345669         -48.926249  0.015507             0.101824   \n",
      "\n",
      "           2nd Difference Max  Skewness  ...      AR33      AR34      AR35  \\\n",
      "31.780737           10.476899  0.008912  ... -0.833476 -0.028735 -0.082365   \n",
      "31.772176           10.474918  0.008888  ... -0.825903 -0.025157 -0.091256   \n",
      "31.778741           10.476720  0.008880  ... -0.850852 -0.023537 -0.068912   \n",
      "31.781371           10.478465  0.008881  ... -0.839262 -0.020815 -0.083379   \n",
      "31.779008           10.474135  0.008865  ... -0.849027 -0.030280 -0.063603   \n",
      "31.763349           10.467689  0.008850  ... -0.839960 -0.018445 -0.084680   \n",
      "31.780943           10.474650  0.008898  ... -0.846612 -0.021096 -0.075429   \n",
      "31.780402           10.477198  0.008889  ... -0.856998 -0.024195 -0.062368   \n",
      "31.782271           10.480007  0.008887  ... -0.832310 -0.035545 -0.076752   \n",
      "31.782835           10.481229  0.008886  ... -0.828036 -0.031602 -0.084871   \n",
      "31.764726           10.468195  0.008852  ... -0.835033 -0.049479 -0.059265   \n",
      "31.780433           10.476146  0.008861  ... -0.830841 -0.029875 -0.083765   \n",
      "31.779452           10.474907  0.008869  ... -0.836058 -0.033436 -0.075258   \n",
      "31.782917           10.476274  0.008890  ... -0.829999 -0.030956 -0.083339   \n",
      "31.782946           10.482599  0.008891  ... -0.836595 -0.033024 -0.074683   \n",
      "31.778936           10.473207  0.008865  ... -0.827011 -0.031005 -0.086171   \n",
      "31.776436           10.469118  0.008877  ... -0.837224 -0.028652 -0.078666   \n",
      "31.782734           10.483216  0.008874  ... -0.833111 -0.025617 -0.085674   \n",
      "31.780464           10.476624  0.008898  ... -0.834436 -0.034726 -0.075008   \n",
      "31.777942           10.470601  0.008859  ... -0.830302 -0.040848 -0.072488   \n",
      "31.777686           10.471938  0.008883  ... -0.827783 -0.028756 -0.087647   \n",
      "31.781300           10.480170  0.008865  ... -0.843485 -0.023180 -0.078054   \n",
      "31.778033           10.472683  0.008867  ... -0.831945 -0.032853 -0.079149   \n",
      "31.782119           10.477771  0.008886  ... -0.837197 -0.026018 -0.081187   \n",
      "31.783031           10.480536  0.008866  ... -0.840401 -0.029745 -0.074180   \n",
      "31.779866           10.475960  0.008860  ... -0.834847 -0.030793 -0.078390   \n",
      "31.778987           10.475778  0.008883  ... -0.840898 -0.025866 -0.077564   \n",
      "31.780510           10.480075  0.008925  ... -0.837753 -0.021690 -0.084665   \n",
      "31.776925           10.470768  0.008889  ... -0.832183 -0.034299 -0.077527   \n",
      "31.777758           10.479863  0.008868  ... -0.838319 -0.031530 -0.074188   \n",
      "31.774236           10.472920  0.008858  ... -0.836782 -0.029284 -0.077695   \n",
      "31.786722           10.476425  0.008865  ... -0.834250 -0.027106 -0.082267   \n",
      "31.776978           10.476936  0.008880  ... -0.829816 -0.031859 -0.082058   \n",
      "31.771589           10.469187  0.008845  ... -0.845262 -0.015129 -0.084249   \n",
      "31.771536           10.470353  0.008850  ... -0.845354 -0.025468 -0.073087   \n",
      "31.773596           10.471923  0.008863  ... -0.735987 -0.060670 -0.142085   \n",
      "31.774281           10.474598  0.008853  ... -0.737384 -0.059041 -0.142404   \n",
      "31.771999           10.471227  0.008843  ... -0.739208 -0.057724 -0.141861   \n",
      "31.775293           10.475095  0.008903  ... -0.737502 -0.054524 -0.147315   \n",
      "31.774319           10.473232  0.008878  ... -0.736149 -0.061383 -0.140963   \n",
      "31.773884           10.474550  0.008873  ... -0.739179 -0.055662 -0.144155   \n",
      "31.771638           10.467607  0.008861  ... -0.739634 -0.050758 -0.148847   \n",
      "31.774174           10.473258  0.008856  ... -0.738244 -0.057992 -0.142529   \n",
      "31.776858           10.478697  0.008877  ... -0.743416 -0.055621 -0.139626   \n",
      "31.790496           10.484655  0.008895  ... -0.735557 -0.060640 -0.142360   \n",
      "31.771067           10.470671  0.008939  ... -0.737469 -0.059396 -0.141761   \n",
      "31.773267           10.475860  0.008905  ... -0.741118 -0.054138 -0.143599   \n",
      "31.779326           10.477825  0.008884  ... -0.742740 -0.050924 -0.145427   \n",
      "31.781935           10.479229  0.008884  ... -0.742488 -0.052663 -0.143846   \n",
      "31.780282           10.477653  0.008865  ... -0.740100 -0.054275 -0.144606   \n",
      "\n",
      "               AR36      AR37      AR38      AR39      AR40      AR41  AR42  \n",
      "31.780737 -0.825135 -0.033253 -0.085873 -0.836434 -0.028175 -0.080109     1  \n",
      "31.772176 -0.854758 -0.016872 -0.071982 -0.835486 -0.027574 -0.079794     1  \n",
      "31.778741 -0.849051 -0.024524 -0.069609 -0.848800 -0.020822 -0.073720     1  \n",
      "31.781371 -0.848531 -0.021275 -0.073840 -0.852213 -0.016902 -0.074627     1  \n",
      "31.779008 -0.849137 -0.024841 -0.069054 -0.846065 -0.026369 -0.070495     1  \n",
      "31.763349 -0.857242 -0.014594 -0.071918 -0.841177 -0.019558 -0.082513     1  \n",
      "31.780943 -0.840284 -0.020215 -0.082508 -0.850267 -0.020197 -0.072901     1  \n",
      "31.780402 -0.841963 -0.025320 -0.075890 -0.851421 -0.023556 -0.068403     1  \n",
      "31.782271 -0.824504 -0.026532 -0.091558 -0.853044 -0.024259 -0.066192     1  \n",
      "31.782835 -0.835656 -0.034112 -0.074947 -0.823242 -0.037367 -0.083653     1  \n",
      "31.764726 -0.823209 -0.049315 -0.070857 -0.833267 -0.045027 -0.065633     1  \n",
      "31.780433 -0.833769 -0.031041 -0.079943 -0.826299 -0.021223 -0.095214     1  \n",
      "31.779452 -0.831319 -0.029877 -0.083397 -0.840406 -0.029174 -0.075323     1  \n",
      "31.782917 -0.837669 -0.030330 -0.076707 -0.830257 -0.032630 -0.081551     1  \n",
      "31.782946 -0.831467 -0.029963 -0.082930 -0.838039 -0.035333 -0.071177     1  \n",
      "31.778936 -0.834624 -0.032467 -0.077284 -0.828777 -0.031545 -0.083949     1  \n",
      "31.776436 -0.830639 -0.028719 -0.084950 -0.834005 -0.030352 -0.080129     1  \n",
      "31.782734 -0.836622 -0.026285 -0.081690 -0.829575 -0.027852 -0.086926     1  \n",
      "31.780464 -0.828820 -0.034620 -0.080553 -0.836565 -0.036280 -0.071394     1  \n",
      "31.777942 -0.839036 -0.041168 -0.063867 -0.832128 -0.042286 -0.069691     1  \n",
      "31.777686 -0.834340 -0.030059 -0.079992 -0.828018 -0.028664 -0.087634     1  \n",
      "31.781300 -0.835587 -0.022609 -0.086387 -0.837338 -0.026106 -0.081118     1  \n",
      "31.778033 -0.834155 -0.036929 -0.072969 -0.829512 -0.031122 -0.083506     1  \n",
      "31.782119 -0.832360 -0.022730 -0.089232 -0.839345 -0.026364 -0.078706     1  \n",
      "31.783031 -0.835471 -0.026451 -0.082290 -0.843238 -0.028613 -0.072470     1  \n",
      "31.779866 -0.842240 -0.032309 -0.069676 -0.837717 -0.028250 -0.078095     1  \n",
      "31.778987 -0.836680 -0.024342 -0.083186 -0.836120 -0.029916 -0.078077     1  \n",
      "31.780510 -0.840281 -0.024818 -0.079161 -0.833811 -0.025915 -0.084429     1  \n",
      "31.776925 -0.834653 -0.036360 -0.073034 -0.830442 -0.035104 -0.078276     1  \n",
      "31.777758 -0.834027 -0.027085 -0.082970 -0.837718 -0.028849 -0.077574     1  \n",
      "31.774236 -0.828700 -0.036785 -0.077859 -0.840154 -0.034881 -0.068632     1  \n",
      "31.786722 -0.843150 -0.024259 -0.076470 -0.841966 -0.023058 -0.078951     1  \n",
      "31.776978 -0.840889 -0.025253 -0.078100 -0.843632 -0.023222 -0.077529     1  \n",
      "31.771589 -0.841273 -0.018905 -0.084470 -0.837318 -0.022073 -0.085027     1  \n",
      "31.771536 -0.829746 -0.029594 -0.084109 -0.846159 -0.028699 -0.069154     1  \n",
      "31.773596 -0.736750 -0.060926 -0.141000 -0.736806 -0.061998 -0.139964     1  \n",
      "31.774281 -0.738791 -0.057295 -0.142934 -0.738164 -0.058419 -0.142414     1  \n",
      "31.771999 -0.738001 -0.060668 -0.140107 -0.739350 -0.058219 -0.141440     1  \n",
      "31.775293 -0.736077 -0.058219 -0.144784 -0.738169 -0.054849 -0.146053     1  \n",
      "31.774319 -0.736881 -0.059314 -0.142351 -0.736305 -0.059058 -0.143284     1  \n",
      "31.773884 -0.739530 -0.054796 -0.144544 -0.737482 -0.058452 -0.142588     1  \n",
      "31.771638 -0.739169 -0.051697 -0.148274 -0.739134 -0.051540 -0.148555     1  \n",
      "31.774174 -0.738833 -0.057817 -0.142189 -0.738609 -0.056016 -0.144437     1  \n",
      "31.776858 -0.744570 -0.052679 -0.141625 -0.741356 -0.055977 -0.141476     1  \n",
      "31.790496 -0.735702 -0.061745 -0.141013 -0.735183 -0.061884 -0.141445     1  \n",
      "31.771067 -0.740131 -0.055743 -0.142792 -0.737481 -0.060497 -0.140450     1  \n",
      "31.773267 -0.740020 -0.056066 -0.142694 -0.741155 -0.054767 -0.142880     1  \n",
      "31.779326 -0.742909 -0.051546 -0.144599 -0.742447 -0.052721 -0.143710     1  \n",
      "31.781935 -0.739218 -0.058459 -0.141170 -0.741224 -0.055208 -0.142550     1  \n",
      "31.780282 -0.741246 -0.051873 -0.145834 -0.743350 -0.049498 -0.146119     1  \n",
      "\n",
      "[50 rows x 174 columns]\n"
     ]
    }
   ],
   "source": [
    "import pandas as pd\n",
    "\n",
    "df = pd.read_csv('Features/features.csv')\n",
    "print(df)"
   ]
  },
  {
   "cell_type": "code",
   "execution_count": null,
   "metadata": {},
   "outputs": [
    {
     "data": {
      "text/plain": [
       "Coeffiecient of Variation              0.003666\n",
       "Mean of Vertex to Vertex Slope         0.000048\n",
       "Variance of Vertex to Vertex Slope     0.000108\n",
       "Hjorth_Activity                       14.094489\n",
       "Hjorth_Mobility                       82.372155\n",
       "                                        ...    \n",
       "AR38                                  -0.097903\n",
       "AR39                                  -0.808323\n",
       "AR40                                  -0.036928\n",
       "AR41                                  -0.097199\n",
       "AR42                                   1.000000\n",
       "Length: 174, dtype: float64"
      ]
     },
     "execution_count": 59,
     "metadata": {},
     "output_type": "execute_result"
    }
   ],
   "source": [
    "df.mean(axis=0)"
   ]
  },
  {
   "cell_type": "code",
   "execution_count": null,
   "metadata": {},
   "outputs": [
    {
     "data": {
      "text/plain": [
       "Coeffiecient of Variation             1.409736e-03\n",
       "Mean of Vertex to Vertex Slope        6.589904e-06\n",
       "Variance of Vertex to Vertex Slope    1.364507e-07\n",
       "Hjorth_Activity                       1.446190e-02\n",
       "Hjorth_Mobility                       6.217719e-02\n",
       "                                          ...     \n",
       "AR38                                  3.034653e-02\n",
       "AR39                                  4.625308e-02\n",
       "AR40                                  1.415517e-02\n",
       "AR41                                  3.093851e-02\n",
       "AR42                                  0.000000e+00\n",
       "Length: 174, dtype: float64"
      ]
     },
     "execution_count": 60,
     "metadata": {},
     "output_type": "execute_result"
    }
   ],
   "source": [
    "df.std(axis=0)"
   ]
  },
  {
   "cell_type": "code",
   "execution_count": null,
   "metadata": {
    "collapsed": false
   },
   "outputs": [
    {
     "name": "stdout",
     "output_type": "stream",
     "text": [
      "Done!\n"
     ]
    }
   ],
   "source": [
    "# for i in range(len(lines[1])-1):\n",
    "for i in range(len(lines[0])-1):  \n",
    "    columns = []\n",
    "    for j in range(1,len(lines)):\n",
    "        # print(i, j, lines[j][i])\n",
    "        columns.append(float(lines[j][i]))\n",
    "    # print(columns)\n",
    "    mean = np.mean(columns,axis = 0)\n",
    "    #print('\\nMean = ',mean)\n",
    "    std_dev  = np.std(columns,axis = 0)\n",
    "    #print('\\nSTD Deviation = ',std_dev)\n",
    "    for j in range(1,len(lines)):\n",
    "        lines[j][i] = (float(lines[j][i])-mean)/std_dev\n",
    "\n",
    "# print(lines)\n",
    "writer = csv.writer(open('Features/Normalizedfeatures.csv', 'w'))\n",
    "writer.writerows(lines)\n",
    "print('Done!')"
   ]
  }
 ],
 "metadata": {
  "anaconda-cloud": {},
  "kernelspec": {
   "display_name": "Python 3.8.10 64-bit",
   "language": "python",
   "name": "python3"
  },
  "language_info": {
   "codemirror_mode": {
    "name": "ipython",
    "version": 3
   },
   "file_extension": ".py",
   "mimetype": "text/x-python",
   "name": "python",
   "nbconvert_exporter": "python",
   "pygments_lexer": "ipython3",
   "version": "3.8.10"
  },
  "vscode": {
   "interpreter": {
    "hash": "916dbcbb3f70747c44a77c7bcd40155683ae19c65e1c03b4aa3499c5328201f1"
   }
  }
 },
 "nbformat": 4,
 "nbformat_minor": 0
}
