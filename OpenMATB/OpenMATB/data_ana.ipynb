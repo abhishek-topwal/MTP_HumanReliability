{
 "cells": [
  {
   "cell_type": "code",
   "execution_count": 1,
   "metadata": {},
   "outputs": [],
   "source": [
    "from datetime import datetime\n",
    "from pathlib import Path\n",
    "import pandas as pd"
   ]
  },
  {
   "cell_type": "code",
   "execution_count": 48,
   "metadata": {},
   "outputs": [
    {
     "name": "stdout",
     "output_type": "stream",
     "text": [
      "<class 'pathlib.PosixPath'>\n"
     ]
    }
   ],
   "source": [
    "# get the start time from log file in User_data\n",
    "User_data_path = Path.cwd() / 'User_data'\n",
    "folder_path = User_data_path / '12345'\n",
    "session_path = folder_path / 'session_1'\n",
    "log_file_path = 'User_data/12345/session_1/12345_session_1_22-03-2023_21-53.log'\n",
    "data_file_path = 'User_data/12345/session_1/12345_session_1_22-03-2023_21-53.txt'\n",
    "date = log_file_path.split('_')[5]\n"
   ]
  },
  {
   "cell_type": "code",
   "execution_count": 50,
   "metadata": {},
   "outputs": [],
   "source": [
    "\n",
    "def get_start_end_time_logfile(log_file_path, date):\n",
    "    '''\n",
    "    This function gets the start time and end time from the log file.\n",
    "    Input: log file path and date\n",
    "    Returns: start time of the log file in datetime format\n",
    "    '''\n",
    "    log_start_time = ''\n",
    "    #open log file\n",
    "    with open(log_file_path, 'r') as file:\n",
    "        #get the start time\n",
    "        file.seek(0)  # Move pointer to beginning of file\n",
    "        for i in range(2):  # Move pointer to end of second line\n",
    "            file.readline()\n",
    "        third_line_pos = file.tell()  # Get position of beginning of third line\n",
    "        file.seek(third_line_pos)  # Move pointer to beginning of third line\n",
    "        third_line = file.readline()  # Read third line\n",
    "        log_start_time = third_line.split('\\t')[0]\n",
    "        log_start_time = date+\" \"+log_start_time\n",
    "\n",
    "        file.seek(0)\n",
    "        # Read the contents of the file\n",
    "        lines = file.readlines()\n",
    "\n",
    "        # Get the index of the second last line\n",
    "        second_last_line_index = len(lines) - 2\n",
    "\n",
    "        # Move the file pointer to the start of the second last line\n",
    "        file.seek(0)\n",
    "        file.seek(sum(len(line) for line in lines[:second_last_line_index]))\n",
    "\n",
    "        # Read the contents of the second last line\n",
    "        second_last_line = file.readline()\n",
    "        log_end_time = second_last_line.split('\\t')[0]\n",
    "        log_end_time = date+\" \"+log_end_time\n",
    "        file.close()\n",
    "        #convert to datetime format\n",
    "        exp_start_time = datetime.strptime(log_start_time, '%d-%m-%Y %H:%M:%S.%f')\n",
    "        exp_end_time = datetime.strptime(log_end_time, '%d-%m-%Y %H:%M:%S.%f')\n",
    "        return log_start_time, log_end_time"
   ]
  },
  {
   "cell_type": "code",
   "execution_count": 25,
   "metadata": {},
   "outputs": [
    {
     "name": "stdout",
     "output_type": "stream",
     "text": [
      "2023-03-22 21:49:43.711470 2023-03-22 21:52:48.815724\n"
     ]
    }
   ],
   "source": [
    "exp_start_time, exp_end_time = get_start_end_time_logfile(log_file_path, date)\n"
   ]
  },
  {
   "cell_type": "code",
   "execution_count": 54,
   "metadata": {},
   "outputs": [],
   "source": [
    "# create a dataframe from the data file\n",
    "def remove_timestamp(data_file_path,exp_start_time, exp_end_time):\n",
    "    '''\n",
    "    This function removes the data outside the experiment\n",
    "    start and end time using the timestamp.\n",
    "    Input: data file path, start time and end time in datetime format\n",
    "    Returns: dataframe with data within the experiment time\n",
    "    '''\n",
    "    df = pd.read_csv(data_file_path, header=4)\n",
    "    df[' Timestamp (Formatted)'] = pd.to_datetime(df[' Timestamp (Formatted)'])\n",
    "    start_idx = df.index[(df[' Timestamp (Formatted)'] >= exp_start_time) & (df['Sample Index']==0.0)].tolist()[0]\n",
    "    end_idx = df.index[(df[' Timestamp (Formatted)'] >= exp_end_time) & (df['Sample Index']==0.0)].tolist()[0]\n",
    "    df1 = df.iloc[start_idx:end_idx]\n",
    "    return df1\n",
    "\n",
    "# df.loc[df['Timestamp(Formatted)']>]"
   ]
  },
  {
   "cell_type": "code",
   "execution_count": 55,
   "metadata": {},
   "outputs": [],
   "source": [
    "User_data_path = Path.cwd() / 'User_data'\n",
    "\n",
    "#iterate on every folder in User_data\n",
    "for folder in User_data_path.iterdir():\n",
    "    #iterate on every session in the folder\n",
    "    for session in folder.iterdir():\n",
    "        #iterate on every file in the session\n",
    "        for file in session.iterdir():\n",
    "            #check if the file is a log file\n",
    "            if file.suffix == '.log':\n",
    "                log_file_path = Path(file)\n",
    "                data_file_path = file.with_suffix('.txt')\n",
    "                date = str(log_file_path).split('_')[6]\n",
    "                exp_start_time, exp_end_time = get_start_end_time_logfile(log_file_path, date)\n",
    "                df1 = remove_timestamp(data_file_path,exp_start_time, exp_end_time)\n",
    "                df1.to_csv(file.with_suffix('.csv'), index=False)\n",
    "\n",
    "\n",
    "# folder_path = User_data_path / '12345'\n",
    "# session_path = folder_path / 'session_1'\n",
    "# log_file_path = 'User_data/12345/session_1/12345_session_1_22-03-2023_21-53.log'\n",
    "# data_file_path = 'User_data/12345/session_1/12345_session_1_22-03-2023_21-53.txt'\n",
    "# date = log_file_path.split('_')[5]"
   ]
  }
 ],
 "metadata": {
  "kernelspec": {
   "display_name": "Python 3",
   "language": "python",
   "name": "python3"
  },
  "language_info": {
   "codemirror_mode": {
    "name": "ipython",
    "version": 3
   },
   "file_extension": ".py",
   "mimetype": "text/x-python",
   "name": "python",
   "nbconvert_exporter": "python",
   "pygments_lexer": "ipython3",
   "version": "3.9.12"
  },
  "orig_nbformat": 4
 },
 "nbformat": 4,
 "nbformat_minor": 2
}
