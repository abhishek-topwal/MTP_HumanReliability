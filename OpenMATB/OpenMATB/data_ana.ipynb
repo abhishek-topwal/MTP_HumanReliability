{
 "cells": [
  {
   "cell_type": "code",
   "execution_count": 1,
   "metadata": {},
   "outputs": [],
   "source": [
    "from datetime import datetime\n",
    "from pathlib import Path\n",
    "import pandas as pd"
   ]
  },
  {
   "cell_type": "code",
   "execution_count": 21,
   "metadata": {},
   "outputs": [],
   "source": [
    "# get the start time from log file in User_data\n",
    "User_data_path = Path.cwd() / 'User_data'\n",
    "folder_path = User_data_path / '12345'\n",
    "session_path = folder_path / 'session_1'\n",
    "log_file_path = 'User_data/12345/session_1/12345_session_1_22-03-2023_21-53.log'\n",
    "data_file_path = 'User_data/12345/session_1/12345_session_1_22-03-2023_21-53.txt'\n",
    "date = log_file_path.split('_')[5]\n"
   ]
  },
  {
   "cell_type": "code",
   "execution_count": 46,
   "metadata": {},
   "outputs": [],
   "source": [
    "\n",
    "def get_start_end_time_logfile(log_file_path, date):\n",
    "    '''\n",
    "    This function gets the start time and end time from the log file.\n",
    "    Input: log file path and date\n",
    "    Returns: start time of the log file in datetime format\n",
    "    '''\n",
    "    log_start_time = ''\n",
    "    #open log file\n",
    "    with open(log_file_path, 'r') as file:\n",
    "        #get the start time\n",
    "        file.seek(0)  # Move pointer to beginning of file\n",
    "        for i in range(2):  # Move pointer to end of second line\n",
    "            file.readline()\n",
    "        third_line_pos = file.tell()  # Get position of beginning of third line\n",
    "        file.seek(third_line_pos)  # Move pointer to beginning of third line\n",
    "        third_line = file.readline()  # Read third line\n",
    "        log_start_time = third_line.split('\\t')[0]\n",
    "        log_start_time = date+\" \"+log_start_time\n",
    "\n",
    "        file.seek(0)\n",
    "        # Read the contents of the file\n",
    "        lines = file.readlines()\n",
    "\n",
    "        # Get the index of the second last line\n",
    "        second_last_line_index = len(lines) - 2\n",
    "\n",
    "        # Move the file pointer to the start of the second last line\n",
    "        file.seek(0)\n",
    "        file.seek(sum(len(line) for line in lines[:second_last_line_index]))\n",
    "\n",
    "        # Read the contents of the second last line\n",
    "        second_last_line = file.readline()\n",
    "        log_end_time = second_last_line.split('\\t')[0]\n",
    "        log_end_time = date+\" \"+log_end_time\n",
    "        file.close()\n",
    "        return log_start_time, log_end_time"
   ]
  },
  {
   "cell_type": "code",
   "execution_count": 48,
   "metadata": {},
   "outputs": [],
   "source": [
    "exp_start_time, exp_end_time = get_start_end_time_logfile(log_file_path, date)"
   ]
  },
  {
   "cell_type": "code",
   "execution_count": null,
   "metadata": {},
   "outputs": [],
   "source": []
  }
 ],
 "metadata": {
  "kernelspec": {
   "display_name": "Python 3",
   "language": "python",
   "name": "python3"
  },
  "language_info": {
   "codemirror_mode": {
    "name": "ipython",
    "version": 3
   },
   "file_extension": ".py",
   "mimetype": "text/x-python",
   "name": "python",
   "nbconvert_exporter": "python",
   "pygments_lexer": "ipython3",
   "version": "3.9.12"
  },
  "orig_nbformat": 4
 },
 "nbformat": 4,
 "nbformat_minor": 2
}
