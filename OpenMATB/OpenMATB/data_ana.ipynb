{
 "cells": [
  {
   "cell_type": "code",
   "execution_count": 2,
   "metadata": {},
   "outputs": [],
   "source": [
    "from datetime import datetime\n",
    "from pathlib import Path\n",
    "import pandas as pd"
   ]
  },
  {
   "cell_type": "code",
   "execution_count": 6,
   "metadata": {},
   "outputs": [],
   "source": [
    "\n",
    "def get_start_end_time_logfile(log_file_path, date):\n",
    "    '''\n",
    "    This function gets the start time and end time from the log file.\n",
    "    Input: log file path and date\n",
    "    Returns: start time of the log file in datetime format\n",
    "    '''\n",
    "    log_start_time = ''\n",
    "    #open log file\n",
    "    with open(log_file_path, 'r') as file:\n",
    "        #get the start time\n",
    "        file.seek(0)  # Move pointer to beginning of file\n",
    "        for i in range(2):  # Move pointer to end of second line\n",
    "            file.readline()\n",
    "        third_line_pos = file.tell()  # Get position of beginning of third line\n",
    "        file.seek(third_line_pos)  # Move pointer to beginning of third line\n",
    "        third_line = file.readline()  # Read third line\n",
    "        log_start_time = third_line.split('\\t')[0]\n",
    "        log_start_time = date+\" \"+log_start_time\n",
    "\n",
    "        file.seek(0)\n",
    "        # Read the contents of the file\n",
    "        lines = file.readlines()\n",
    "\n",
    "        # Get the index of the second last line\n",
    "        second_last_line_index = len(lines) - 2\n",
    "\n",
    "        # Move the file pointer to the start of the second last line\n",
    "        file.seek(0)\n",
    "        file.seek(sum(len(line) for line in lines[:second_last_line_index]))\n",
    "\n",
    "        # Read the contents of the second last line\n",
    "        second_last_line = file.readline()\n",
    "        log_end_time = second_last_line.split('\\t')[0]\n",
    "        log_end_time = date+\" \"+log_end_time\n",
    "        file.close()\n",
    "        #convert to datetime format\n",
    "        exp_start_time = datetime.strptime(log_start_time, '%d-%m-%Y %H:%M:%S.%f')\n",
    "        exp_end_time = datetime.strptime(log_end_time, '%d-%m-%Y %H:%M:%S.%f')\n",
    "        return exp_start_time, exp_end_time"
   ]
  },
  {
   "cell_type": "code",
   "execution_count": 70,
   "metadata": {},
   "outputs": [],
   "source": [
    "# create a dataframe from the data file\n",
    "def remove_timestamp(data_file_path,exp_start_time, exp_end_time):\n",
    "    '''\n",
    "    This function removes the data outside the experiment\n",
    "    start and end time using the timestamp.\n",
    "    Input: data file path, start time and end time in datetime format\n",
    "    Returns: dataframe with data within the experiment time\n",
    "    '''\n",
    "    df = pd.read_csv(data_file_path, header=4)\n",
    "    df[' Timestamp (Formatted)'] = pd.to_datetime(df[' Timestamp (Formatted)'])\n",
    "    # check for first sample index equal to 0\n",
    "    first_idx = df.index[(df['Sample Index']==0.0)].tolist()[0]\n",
    "    df = df.iloc[first_idx:]\n",
    "    start_idx = df.index[(df[' Timestamp (Formatted)'] >= exp_start_time) & (df['Sample Index']==0.0)].tolist()[0]\n",
    "    end_idx = df.index[(df[' Timestamp (Formatted)'] >= exp_end_time) & (df['Sample Index']==0.0)].tolist()[0]\n",
    "    df = df.iloc[start_idx:end_idx]\n",
    "    # print(df.head(1))\n",
    "    # print(df.head(1)) \n",
    "    # print(df1['Sample Index'].iloc[0])\n",
    "    # print(df1.head(10))\n",
    "    return df\n"
   ]
  },
  {
   "cell_type": "code",
   "execution_count": 71,
   "metadata": {},
   "outputs": [
    {
     "name": "stdout",
     "output_type": "stream",
     "text": [
      "/home/mt1/21CS60R01/MTP_HumanReliability/OpenMATB/OpenMATB/User_data/12352/session_1/12352_session_1_02-04-2023_21-51.txt 2023-04-02 21:48:11.094844 2023-04-02 21:51:16.955307\n"
     ]
    }
   ],
   "source": [
    "User_data_path = Path.cwd() / 'User_data'\n",
    "count = 0\n",
    "try:\n",
    "    for folder in User_data_path.iterdir():\n",
    "        #iterate on every session in the folder\n",
    "        for session in folder.iterdir():\n",
    "            #check if there is a .csv file present\n",
    "            # if any(file.suffix == '.csv' for file in session.iterdir()):\n",
    "            #     continue\n",
    "            log_file_path = ''\n",
    "            data_file_path = ''\n",
    "            date = ''\n",
    "            exp_start_time = ''\n",
    "            exp_end_time = ''\n",
    "            for file in session.iterdir():\n",
    "                #check if the file is a log file\n",
    "                if file.suffix == '.log':\n",
    "                    log_file_path = Path(file)\n",
    "                    date = str(log_file_path).split('_')[6]\n",
    "                    exp_start_time, exp_end_time = get_start_end_time_logfile(log_file_path, date)\n",
    "\n",
    "                #check for file with .txt extension and not pulse data and track data\n",
    "                if file.suffix == '.txt' and 'pulse' not in str(file) and 'track' not in str(file):\n",
    "                    data_file_path = file\n",
    "\n",
    "            df1 = remove_timestamp(data_file_path,exp_start_time, exp_end_time)\n",
    "            raise StopIteration\n",
    "            #create a csv file\n",
    "            # df1.to_csv(data_file_path.with_suffix('.csv'), index=False)\n",
    "except StopIteration:\n",
    "    pass"
   ]
  },
  {
   "cell_type": "code",
   "execution_count": 23,
   "metadata": {},
   "outputs": [],
   "source": [
    "#iterate on every folder in User_data\n",
    "for folder in User_data_path.iterdir():\n",
    "    #iterate on every session in the folder\n",
    "    for session in folder.iterdir():\n",
    "        #check if there is a .csv file present\n",
    "        for file in session.iterdir():\n",
    "            #check if the file is a log file\n",
    "            if file.suffix == '.csv':\n",
    "                #check if file size is less than 1MB\n",
    "                if file.stat().st_size < 1000:\n",
    "                    print(file)\n"
   ]
  }
 ],
 "metadata": {
  "kernelspec": {
   "display_name": "Python 3",
   "language": "python",
   "name": "python3"
  },
  "language_info": {
   "codemirror_mode": {
    "name": "ipython",
    "version": 3
   },
   "file_extension": ".py",
   "mimetype": "text/x-python",
   "name": "python",
   "nbconvert_exporter": "python",
   "pygments_lexer": "ipython3",
   "version": "3.9.12"
  },
  "orig_nbformat": 4
 },
 "nbformat": 4,
 "nbformat_minor": 2
}
